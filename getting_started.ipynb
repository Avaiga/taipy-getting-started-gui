{
 "cells": [
  {
   "cell_type": "markdown",
   "metadata": {},
   "source": [
    "# Getting Started with Taipy GUI\n",
    "\n",
    "!!! important \"Supported Python versions\"\n",
    "\n",
    "    Taipy requires **Python 3.8** or newer.\n",
    "\n",
    "Welcome to the **Getting Started** guide for Taipy GUI. This tour shows you how to use Taipy GUI to create an interactive Web application. Taipy GUI implements a modern backend for any data-driven application based on your business case.\n",
    "\n",
    "<div align=\"center\">\n",
    " <img src=https://github.com/Avaiga/taipy-getting-started-core/blob/develop/step_00/imd_end_interface.png width=700>\n",
    "</div>\n",
    "\n",
    "# Taipy GUI\n",
    "\n",
    "Taipy GUI is one of the components of Taipy to create easily Web application. There are a lot of reasons for using Taipy GUI:\n",
    "\n",
    "- It fastens the creation of an application.\n",
    "\n",
    "- It manages easily and efficiently variables and events.\n",
    "\n",
    "- Easy visualization with Markdown syntax.\n",
    "\n",
    "Each step of the **\"Getting Started\"** will focus on basic concepts of *Taipy*. Note that every step is dependent on \n",
    "the code of the previous one. After completing the last step, you will have the skills to develop your own Taipy \n",
    "application. \n",
    "\n",
    "## Before we begin\n",
    "\n",
    "Only Taipy has to be installed. **Taipy** package requires Python 3.8 or newer;\n",
    "\n"
   ]
  },
  {
   "cell_type": "code",
   "execution_count": 0,
   "metadata": {},
   "outputs": [],
   "source": [
    "# !pip install taipy\n"
   ]
  },
  {
   "cell_type": "markdown",
   "metadata": {},
   "source": [
    "## Using Notebooks\n"
   ]
  },
  {
   "cell_type": "markdown",
   "metadata": {},
   "source": [
    "> You can download the code for this step [here](https://docs.taipy.io/en/latest/getting_started/src/step_01.py) or all the steps [here](https://github.com/Avaiga/taipy-getting-started/tree/develop/src).\n",
    "\n",
    "\n",
    "\n",
    "# Step 1: First web page\n",
    "\n",
    "You only need one line of code to create your first Taipy web page. Create a `Gui` object with a String and run it. \n",
    "A client link will be displayed in the console. Please enter it in a web browser to open your first Taipy web client!\n",
    "\n",
    "\n"
   ]
  },
  {
   "cell_type": "code",
   "execution_count": 1,
   "metadata": {},
   "outputs": [
    {
     "name": "stdout",
     "output_type": "stream",
     "text": [
      " * Server starting on http://127.0.0.1:5000\n"
     ]
    },
    {
     "name": "stderr",
     "output_type": "stream",
     "text": [
      "C:\\Users\\jacta\\AppData\\Local\\R-MINI~1\\envs\\notebook\\lib\\site-packages\\gevent\\hub.py:161: UserWarning: libuv only supports millisecond timer resolution; all times less will be set to 1 ms\n",
      "  with loop.timer(seconds, ref=ref) as t:\n"
     ]
    }
   ],
   "source": [
    "from taipy import Gui\n",
    "\n",
    "Gui(page=\"# Getting started with *Taipy*\").run()\n"
   ]
  },
  {
   "cell_type": "markdown",
   "metadata": {},
   "source": [
    "\n",
    "If you want to run multiple servers simultaneously, you can change the server port number (5000 by default) in the `.run()` method. For example, `Gui(...).run(port=xxxx)`.\n",
    "\n",
    "\n",
    "Note that you can style the text. Taipy uses the Markdown syntax to style your text and more. Therefore, `#` creates \n",
    "a title, `##` makes a subtitle. Put your text in `*` for *italics* or in `**` to have it in **bold**.\n",
    "\n",
    "\n",
    "<div align=\"center\">\n",
    " <img src=https://github.com/Avaiga/taipy-getting-started-core/blob/develop/step_01/result.png width=700>\n",
    "</div>\n"
   ]
  },
  {
   "cell_type": "markdown",
   "metadata": {},
   "source": [
    "> You can download the code of this step [here](https://docs.taipy.io/en/latest/getting_started/src/step_02.py) or all the steps [here](https://github.com/Avaiga/taipy-getting-started-gui/tree/develop/src).\n",
    "\n",
    "\n",
    "\n",
    "# Step 2: Visual elements\n",
    "\n",
    "Many visual elements can be added to the basic code viewed in Step 1. This Step shows how to use visual elements \n",
    "like charts, sliders, and tables, and implement them in the GUI.\n",
    "\n",
    "## Visual elements\n",
    "\n",
    "Taipy GUI can be considered as an **augmented** Markdown; it adds the concept of \n",
    "**[Visual elements](https://docs.taipy.io/en/latest/manuals/gui/viselements/)** on top of all the Markdown syntax. A visual \n",
    "element is a Taipy graphical object displayed on the client. It can be a \n",
    "[slider](https://docs.taipy.io/en/latest/manuals/gui/viselements/slider/), a \n",
    "[chart](https://docs.taipy.io/en/latest/manuals/gui/viselements/chart/), a \n",
    "[table](https://docs.taipy.io/en/latest/manuals/gui/viselements/table/), an \n",
    "[input](https://docs.taipy.io/en/latest/manuals/gui/viselements/input/), a \n",
    "[menu](https://docs.taipy.io/en/latest/manuals/gui/viselements/menu/), etc. Check the list \n",
    "[here](https://docs.taipy.io/en/latest/manuals/gui/controls/).\n",
    "\n",
    "Every visual element follows a similar syntax:\n",
    "\n",
    "`<|{variable}|visual_element_name|param_1=param_1|param_2=param_2| ... |>`.\n",
    "\n",
    "For example, a [slider](https://docs.taipy.io/en/latest/manuals/gui/viselements/slider/) is written this way :\n",
    "\n",
    "`<|{variable}|slider|min=min_value|max=max_value|>`.\n",
    "\n",
    "For each visual element you wish to add to your web page, you must include the syntax above inside your markdown \n",
    "string (representing your page). For example, at the beginning of the page, let's display:\n",
    "\n",
    "- a Python variable *text*;\n",
    "\n",
    "- an input that will \"visually\" modify the value of __text__.\n",
    "\n",
    "Here is the overall syntax:\n",
    "\n",
    "```\n",
    "*<|{text}|>*\n",
    "<|{text}|input|>\n",
    "```\n",
    "\n",
    "Here is the combined code:\n",
    "\n"
   ]
  },
  {
   "cell_type": "code",
   "execution_count": 2,
   "metadata": {},
   "outputs": [
    {
     "name": "stdout",
     "output_type": "stream",
     "text": [
      "Gui server has been stopped.\n",
      " * Server starting on http://127.0.0.1:5000\n"
     ]
    },
    {
     "name": "stderr",
     "output_type": "stream",
     "text": [
      "C:\\Users\\jacta\\AppData\\Local\\R-MINI~1\\envs\\notebook\\lib\\site-packages\\gevent\\hub.py:161: UserWarning: libuv only supports millisecond timer resolution; all times less will be set to 1 ms\n",
      "  with loop.timer(seconds, ref=ref) as t:\n"
     ]
    }
   ],
   "source": [
    "from taipy.gui import Gui\n",
    "\n",
    "text = \"Original text\"\n",
    "\n",
    "page = \"\"\"\n",
    "# Getting started with Taipy GUI\n",
    "\n",
    "My text: <|{text}|>\n",
    "\n",
    "<|{text}|input|>\n",
    "\"\"\"\n",
    "\n",
    "Gui(page).run()\n"
   ]
  },
  {
   "cell_type": "markdown",
   "metadata": {},
   "source": [
    "\n",
    "<div align=\"center\">\n",
    " <img src=https://github.com/Avaiga/taipy-getting-started-core/blob/develop/step_02/result.png width=700>\n",
    "</div>\n"
   ]
  },
  {
   "cell_type": "markdown",
   "metadata": {},
   "source": [
    "> You can download the code of this step [here](https://docs.taipy.io/en/latest/getting_started/src/step_03.py) or all the steps [here](https://github.com/Avaiga/taipy-getting-started-gui/tree/develop/src).\n",
    "\n",
    "\n",
    "\n",
    "# Step 3: Interactive GUI\n",
    "\n",
    "Now, the page has several visual elements:\n",
    "\n",
    "- A text that is connected to the Python variable *text*;\n",
    "\n",
    "- An input that changes the value *text* automatically.\n",
    "\n",
    "Taipy GUI manages everything. To go further into Taipy GUI, let's consider the concept of **state**.\n",
    "\n",
    "## Multi-user - state\n",
    "\n",
    "Try to open a few clients with the same URL. You will see that every client is independent of each other; you can change *text* on a client, and *text* will not change in other clients. This is due to the concept of **state**.\n",
    "\n",
    "The state holds the value of all the variables used in the user interface for one specific connection.\n",
    "\n",
    "For example, in the beginning, `state.text = 'Original text'`. When *text* is modified by the input (through a given graphical client), this is, in fact, *state.text* that is modified, not *text* (the global Python variable). Therefore, if you open two different clients, *text* will have two state values (*state.text*), one for each client.\n",
    "\n",
    "In the code below, this concept will be used to:\n",
    "\n",
    "- Notify the user when the button is pressed;\n",
    "\n",
    "- Reset the input when the text equals \"Reset\".\n",
    "\n",
    "## How to connect two variables - the *[on_change()](https://docs.taipy.io/en/latest/manuals/gui/callbacks/)* function\n",
    "\n",
    "In *Taipy*, the `on_change()` function is a \"special\" function. **Taipy** will check if you created and will use a function with this name. Whenever the state of a variable is modified, the *callback* function is called with three parameters:\n",
    "\n",
    "- state (the state object containing all the variables);\n",
    "\n",
    "- The name of the modified variable;\n",
    "\n",
    "- Its value.\n",
    "\n",
    "Here, `on_change()` will be called whenever the text's value (*state.text*) changes. If a variable is changed in this function, Taipy will propagate this change automatically to the associated visual elements.\n",
    "\n",
    "Other callbacks specific to visual elements exist. They are named _on_change_ or _on_action_. For example, a button has an _on_action_ property. When the button is pressed, Taipy will call the function referenced in the _on_action_ property.\n",
    "\n"
   ]
  },
  {
   "cell_type": "code",
   "execution_count": 3,
   "metadata": {},
   "outputs": [
    {
     "name": "stdout",
     "output_type": "stream",
     "text": [
      "Gui server has been stopped.\n",
      " * Server starting on http://127.0.0.1:5000\n"
     ]
    },
    {
     "name": "stderr",
     "output_type": "stream",
     "text": [
      "C:\\Users\\jacta\\AppData\\Local\\R-MINI~1\\envs\\notebook\\lib\\site-packages\\gevent\\hub.py:161: UserWarning: libuv only supports millisecond timer resolution; all times less will be set to 1 ms\n",
      "  with loop.timer(seconds, ref=ref) as t:\n"
     ]
    }
   ],
   "source": [
    "from taipy.gui import Gui, notify\n",
    "\n",
    "text = \"Original text\"\n",
    "\n",
    "# Definition of the page\n",
    "page = \"\"\"\n",
    "# Getting started with Taipy GUI\n",
    "\n",
    "My text: <|{text}|>\n",
    "\n",
    "<|{text}|input|>\n",
    "\n",
    "<|Run local|button|on_action=on_button_action|>\n",
    "\"\"\"\n",
    "\n",
    "def on_button_action(state):\n",
    "    notify(state, 'info', f'The text is: {state.text}')\n",
    "    state.text = \"Button Pressed\"\n",
    "\n",
    "def on_change(state, var_name, var_value):\n",
    "    if var_name == \"text\" and var_value == \"Reset\":\n",
    "        state.text = \"\"\n",
    "        return\n",
    "\n",
    "\n",
    "Gui(page).run()\n"
   ]
  },
  {
   "cell_type": "markdown",
   "metadata": {},
   "source": [
    "\n",
    "<div align=\"center\">\n",
    " <img src=https://github.com/Avaiga/taipy-getting-started-core/blob/develop/step_03/result.png width=700>\n",
    "</div>\n",
    "\n",
    "_notify()_ is a Taipy GUI function that creates a notification with text. The user can pass multiple parameters, including the _state_, the _notification_type_, and the _message_.\n"
   ]
  },
  {
   "cell_type": "markdown",
   "metadata": {},
   "source": [
    "> You can download the code of this step [here](https://docs.taipy.io/en/latest/getting_started/src/step_04.py) or all the steps [here](https://github.com/Avaiga/taipy-getting-started-gui/tree/develop/src).\n",
    "\n",
    "# Step 4: Charts\n",
    " \n",
    "Charts are an essential part of Taipy and any Web application. A chart is just another visual element with many properties to customize it.\n",
    "\n",
    "Here is one of the simplest codes to create a chart:\n",
    "\n"
   ]
  },
  {
   "cell_type": "code",
   "execution_count": 4,
   "metadata": {},
   "outputs": [
    {
     "name": "stdout",
     "output_type": "stream",
     "text": [
      "Gui server has been stopped.\n",
      " * Server starting on http://127.0.0.1:5000\n"
     ]
    },
    {
     "name": "stderr",
     "output_type": "stream",
     "text": [
      "C:\\Users\\jacta\\AppData\\Local\\R-MINI~1\\envs\\notebook\\lib\\site-packages\\gevent\\hub.py:161: UserWarning: libuv only supports millisecond timer resolution; all times less will be set to 1 ms\n",
      "  with loop.timer(seconds, ref=ref) as t:\n"
     ]
    }
   ],
   "source": [
    "list_to_display = [100/x for x in range(1, 100)]\n",
    "Gui(\"<|{list_to_display}|chart|>\").run()\n"
   ]
  },
  {
   "cell_type": "markdown",
   "metadata": {},
   "source": [
    "\n",
    "Different formats can be passed to a chart element: a list, a Numpy array, or a Pandas Dataframe.\n",
    "\n",
    "## Different useful properties\n",
    "\n",
    "Taipy charts are based on Plotly charts. Like any other visual element, charts have a lot of parameters. Some of them can be indexed to change properties for specific chart traces. \n",
    "\n",
    "Here are a few of the essential properties. You can also look at the [documentation]() for more information.\n",
    " - x and y are used to define the axis of the chart. Note that even if data inside columns are dynamic, the name of columns to display in a chart are not.\n",
    "\n"
   ]
  },
  {
   "cell_type": "code",
   "execution_count": 7,
   "metadata": {},
   "outputs": [
    {
     "name": "stdout",
     "output_type": "stream",
     "text": [
      "Gui server has been stopped.\n",
      " * Server starting on http://127.0.0.1:5000\n"
     ]
    }
   ],
   "source": [
    "import pandas as pd\n",
    "\n",
    "data = pd.DataFrame({\"x_col\":[0,1,2], \"y_col1\":[4,1,2]})\n",
    "Gui(\"<|{data}|chart|x=x_col|y=y_col1|>\").run()\n"
   ]
  },
  {
   "cell_type": "markdown",
   "metadata": {},
   "source": [
    "\n",
    " - x and y can be indexed to add more traces to the chart:\n",
    "\n"
   ]
  },
  {
   "cell_type": "code",
   "execution_count": 8,
   "metadata": {},
   "outputs": [
    {
     "name": "stdout",
     "output_type": "stream",
     "text": [
      "Gui server has been stopped.\n",
      " * Server starting on http://127.0.0.1:5000\n"
     ]
    },
    {
     "name": "stderr",
     "output_type": "stream",
     "text": [
      "C:\\Users\\jacta\\AppData\\Local\\R-MINI~1\\envs\\notebook\\lib\\site-packages\\gevent\\hub.py:161: UserWarning: libuv only supports millisecond timer resolution; all times less will be set to 1 ms\n",
      "  with loop.timer(seconds, ref=ref) as t:\n"
     ]
    }
   ],
   "source": [
    "data = pd.DataFrame({\"x_col\":[0,1,2], \"y_col_1\":[4,1,2], \"y_col_2\":[3,1,2]})\n",
    "Gui(\"<|{data}|chart|x=x_col|y[1]=y_col_1|y[2]=y_col_2|>\").run()\n"
   ]
  },
  {
   "cell_type": "markdown",
   "metadata": {},
   "source": [
    "\n",
    " - Taipy provides a lot of different options to customize graphs. _color_ is one of them:\n",
    "\n"
   ]
  },
  {
   "cell_type": "code",
   "execution_count": 9,
   "metadata": {},
   "outputs": [
    {
     "name": "stdout",
     "output_type": "stream",
     "text": [
      "Gui server has been stopped.\n",
      " * Server starting on http://127.0.0.1:5000\n"
     ]
    },
    {
     "name": "stderr",
     "output_type": "stream",
     "text": [
      "C:\\Users\\jacta\\AppData\\Local\\R-MINI~1\\envs\\notebook\\lib\\site-packages\\gevent\\hub.py:161: UserWarning: libuv only supports millisecond timer resolution; all times less will be set to 1 ms\n",
      "  with loop.timer(seconds, ref=ref) as t:\n"
     ]
    }
   ],
   "source": [
    "data = pd.DataFrame({\"x_col\":[0,1,2], \"y_col_1\":[4,1,2], \"y_col_2\":[3,1,2]})\n",
    "Gui(\"<|{data}|chart|x=x_col|y[1]=y_col_1|y[2]=y_col_2|type[1]=bar|color[1]=green|>\").run()\n"
   ]
  },
  {
   "cell_type": "markdown",
   "metadata": {},
   "source": [
    "\n",
    "## Different types of charts\n",
    "\n",
    "Different types are available: maps, bar charts, pie charts, line charts, and 3D charts, ... To know how to use them quickly, types are listed [here](). If compatible, two types like _scatter_, _line_, and _bar_ on the same chart can also be used together. \n",
    "\n"
   ]
  },
  {
   "cell_type": "code",
   "execution_count": 8,
   "metadata": {},
   "outputs": [],
   "source": [
    "data = pd.DataFrame({\"x_col\":[0,1,2], \"y_col_1\":[4,1,2], \"y_col_2\":[3,1,2]})\n",
    "\"<|{data}|chart|x=x_col|y[1]=y_col_1|y[2]=y_col_2|type[1]=bar|>\"\n"
   ]
  },
  {
   "cell_type": "markdown",
   "metadata": {},
   "source": [
    "\n",
    "## Code\n",
    "\n",
    "A chart is added to our code to visualize the score given by our NLP algorithm to different lines.\n",
    "\n"
   ]
  },
  {
   "cell_type": "code",
   "execution_count": 16,
   "metadata": {},
   "outputs": [
    {
     "name": "stdout",
     "output_type": "stream",
     "text": [
      "Gui server has been stopped.\n",
      " * Server starting on http://127.0.0.1:5000\n"
     ]
    },
    {
     "name": "stderr",
     "output_type": "stream",
     "text": [
      "C:\\Users\\jacta\\AppData\\Local\\R-MINI~1\\envs\\notebook\\lib\\site-packages\\gevent\\hub.py:161: UserWarning: libuv only supports millisecond timer resolution; all times less will be set to 1 ms\n",
      "  with loop.timer(seconds, ref=ref) as t:\n"
     ]
    }
   ],
   "source": [
    "\n",
    "page = \"\"\"\n",
    "... put the previous Markdown page here\n",
    "\n",
    "<|{dataframe}|table|>\n",
    "\n",
    "<|{dataframe}|chart|type=bar|x=Text|y[1]=Score Pos|y[2]=Score Neu|y[3]=Score Neg|y[4]=Overall|color[1]=green|color[2]=grey|color[3]=red|type[4]=line|>\n",
    "\"\"\"\n",
    "\n",
    "\n",
    "dataframe = pd.DataFrame({\"Text\":['Test', 'Other', 'Love'],\n",
    "                          \"Score Pos\":[1, 1, 4],\n",
    "                          \"Score Neu\":[2, 3, 1],\n",
    "                          \"Score Neg\":[1, 2, 0],\n",
    "                          \"Overall\":[0, -1, 4]})\n",
    "Gui(page).run()\n"
   ]
  },
  {
   "cell_type": "markdown",
   "metadata": {},
   "source": [
    "\n",
    "## Quick tip to write visual elements\n",
    "\n",
    "To simplify the creation of a visual element. Each of them has a \"property\" parameter where a Python dictionary of property can be directly passed. To replicate the graph above, we could do the following:\n",
    "\n"
   ]
  },
  {
   "cell_type": "code",
   "execution_count": 17,
   "metadata": {},
   "outputs": [
    {
     "name": "stdout",
     "output_type": "stream",
     "text": [
      "Gui server has been stopped.\n",
      " * Server starting on http://127.0.0.1:5000\n"
     ]
    },
    {
     "name": "stderr",
     "output_type": "stream",
     "text": [
      "C:\\Users\\jacta\\AppData\\Local\\R-MINI~1\\envs\\notebook\\lib\\site-packages\\gevent\\hub.py:161: UserWarning: libuv only supports millisecond timer resolution; all times less will be set to 1 ms\n",
      "  with loop.timer(seconds, ref=ref) as t:\n"
     ]
    }
   ],
   "source": [
    "property_chart = {\"type\":\"bar\",\n",
    "                  \"x\":\"Text\",\n",
    "                  \"y[1]\":\"Score Pos\",\n",
    "                  \"y[2]\":\"Score Neu\",\n",
    "                  \"y[3]\":\"Score Neg\",\n",
    "                  \"y[4]\":\"Overall\",\n",
    "                  \"color[1]\":\"green\",\n",
    "                  \"color[2]\":\"grey\",\n",
    "                  \"color[3]\":\"red\",\n",
    "                  \"type[4]\":\"line\"\n",
    "                 }\n",
    "\n",
    "page = \"\"\"\n",
    "...\n",
    "<|{dataframe}|chart|properties={property_chart}|>\n",
    "...\n",
    "\"\"\"\n",
    "\n",
    "Gui(page).run()"
   ]
  },
  {
   "cell_type": "markdown",
   "metadata": {},
   "source": [
    "\n",
    "\n",
    "<div align=\"center\">\n",
    " <img src=https://github.com/Avaiga/taipy-getting-started-core/blob/develop/step_04/result.png width=700>\n",
    "</div>\n"
   ]
  },
  {
   "cell_type": "markdown",
   "metadata": {},
   "source": [
    "> You can download the code of this step [here](https://docs.taipy.io/en/latest/getting_started/src/step_05.py) or all the steps [here](https://github.com/Avaiga/taipy-getting-started-gui/tree/develop/src).\n",
    "\n",
    "# Step 5: Insert Python expressions in Taipy GUI\n",
    "\n",
    "As shown before, parameters and variables in Taipy are dynamic. The same follows for every type of object, even data frames. Therefore, you can do operations on data frames, and Taipy GUI will show real-time results on the GUI. These changes occurs through the `=` asignment like `state.xxx = yyy` (`state.text = \"Example\"`).\n",
    "\n",
    "Any expression containing `xxx` in the Markdown will propagate the changes and reload related elements. It can be  simple charts or tables, but it can also be an expression like this:\n",
    "\n"
   ]
  },
  {
   "cell_type": "code",
   "execution_count": 19,
   "metadata": {},
   "outputs": [
    {
     "data": {
      "text/plain": [
       "\"\\n## Positive\\n<|{np.mean(dataframe['Score Pos'])}|text|>\\n\\n## Neutral\\n<|{np.mean(dataframe['Score Neu'])}|text|>\\n\\n## Negative\\n<|{np.mean(dataframe['Score Neg'])}|text|>\\n\""
      ]
     },
     "execution_count": 19,
     "metadata": {},
     "output_type": "execute_result"
    }
   ],
   "source": [
    "\"\"\"\n",
    "## Positive\n",
    "<|{np.mean(dataframe['Score Pos'])}|text|>\n",
    "\n",
    "## Neutral\n",
    "<|{np.mean(dataframe['Score Neu'])}|text|>\n",
    "\n",
    "## Negative\n",
    "<|{np.mean(dataframe['Score Neg'])}|text|>\n",
    "\"\"\""
   ]
  },
  {
   "cell_type": "markdown",
   "metadata": {},
   "source": [
    "\n",
    "This kind of expression creates direct connections between visual elements without coding anything.\n",
    "\n",
    "\n",
    "## A use case for NLP\n",
    "\n",
    "The code for NLP is provided here; it doesn't concern Taipy but is helpful for the application.\n",
    "\n",
    "\n"
   ]
  },
  {
   "cell_type": "code",
   "execution_count": 22,
   "metadata": {},
   "outputs": [
    {
     "name": "stdout",
     "output_type": "stream",
     "text": [
      "Collecting torch\n",
      "  Using cached torch-1.13.1-cp310-cp310-win_amd64.whl (162.6 MB)\n",
      "Requirement already satisfied: typing-extensions in c:\\users\\jacta\\appdata\\local\\r-miniconda\\envs\\notebook\\lib\\site-packages (from torch) (4.4.0)\n",
      "Installing collected packages: torch\n",
      "Successfully installed torch-1.13.1\n",
      "Note: you may need to restart the kernel to use updated packages.\n"
     ]
    }
   ],
   "source": [
    "pip install torch"
   ]
  },
  {
   "cell_type": "code",
   "execution_count": 25,
   "metadata": {},
   "outputs": [
    {
     "name": "stderr",
     "output_type": "stream",
     "text": [
      "C:\\Users\\jacta\\AppData\\Local\\R-MINI~1\\envs\\notebook\\lib\\site-packages\\gevent\\hub.py:161: UserWarning: libuv only supports millisecond timer resolution; all times less will be set to 1 ms\n",
      "  with loop.timer(seconds, ref=ref) as t:\n"
     ]
    }
   ],
   "source": [
    "from transformers import AutoTokenizer\n",
    "from transformers import AutoModelForSequenceClassification\n",
    "from scipy.special import softmax\n",
    "\n",
    "\n",
    "MODEL = f\"cardiffnlp/twitter-roberta-base-sentiment\"\n",
    "tokenizer = AutoTokenizer.from_pretrained(MODEL)\n",
    "model = AutoModelForSequenceClassification.from_pretrained(MODEL)\n",
    "\n",
    "\n",
    "def analyze_text(text):\n",
    "    # Run for Roberta Model\n",
    "    encoded_text = tokenizer(text, return_tensors='pt')\n",
    "    output = model(**encoded_text)\n",
    "    scores = output[0][0].detach().numpy()\n",
    "    scores = softmax(scores)\n",
    "    \n",
    "    return {\"Text\":text,\n",
    "            \"Score Pos\":scores[2],\n",
    "            \"Score Neu\":scores[1],\n",
    "            \"Score Neg\":scores[0],\n",
    "            \"Overall\":scores[2]-scores[0]}\n",
    "\n"
   ]
  },
  {
   "cell_type": "markdown",
   "metadata": {},
   "source": [
    "\n",
    "\n",
    "## Rest of code to implement the NLP element\n",
    "\n",
    "The code below uses this concept to create metrics on the data frame generated. \n",
    "\n",
    "\n"
   ]
  },
  {
   "cell_type": "code",
   "execution_count": 26,
   "metadata": {},
   "outputs": [
    {
     "name": "stdout",
     "output_type": "stream",
     "text": [
      "Gui server has been stopped.\n",
      " * Server starting on http://127.0.0.1:5000\n"
     ]
    },
    {
     "name": "stderr",
     "output_type": "stream",
     "text": [
      "C:\\Users\\jacta\\AppData\\Local\\R-MINI~1\\envs\\notebook\\lib\\site-packages\\taipy\\gui\\gui.py:902: UserWarning: on_action: Exception raised in function 'local_callback':\n",
      "name 'analize_text' is not defined\n",
      "  warnings.warn(f\"on_action: Exception raised in function '{action_function.__name__}':\\n{e}\")\n",
      "C:\\Users\\jacta\\AppData\\Local\\R-MINI~1\\envs\\notebook\\lib\\site-packages\\taipy\\gui\\gui.py:873: UserWarning: on_action: 'local_callback' is not a valid function\n",
      "  warnings.warn(f\"on_action: '{action}' is not a valid function\")\n",
      "C:\\Users\\jacta\\AppData\\Local\\R-MINI~1\\envs\\notebook\\lib\\site-packages\\taipy\\gui\\gui.py:902: UserWarning: on_action: Exception raised in function 'local_callback':\n",
      "name 'analize_text' is not defined\n",
      "  warnings.warn(f\"on_action: Exception raised in function '{action_function.__name__}':\\n{e}\")\n",
      "C:\\Users\\jacta\\AppData\\Local\\R-MINI~1\\envs\\notebook\\lib\\site-packages\\taipy\\gui\\gui.py:873: UserWarning: on_action: 'local_callback' is not a valid function\n",
      "  warnings.warn(f\"on_action: '{action}' is not a valid function\")\n"
     ]
    }
   ],
   "source": [
    "import numpy as np\n",
    "import pandas as pd \n",
    "from taipy.gui import Gui, notify\n",
    "\n",
    "text = \"Original text\"\n",
    "\n",
    "dataframe = pd.DataFrame({\"Text\":[''],\n",
    "                          \"Score Pos\":[0.33],\n",
    "                          \"Score Neu\":[0.33],\n",
    "                          \"Score Neg\":[0.33],\n",
    "                          \"Overall\":[0]})\n",
    "\n",
    "\n",
    "def local_callback(state):\n",
    "    notify(state, 'Info', f'The text is: {state.text}', True)\n",
    "    temp = state.dataframe.copy()\n",
    "    scores = analize_text(state.text)\n",
    "    state.dataframe = temp.append(scores, ignore_index=True)\n",
    "    state.text = \"\"\n",
    "\n",
    "\n",
    "\n",
    "page = \"\"\"\n",
    "<|toggle|theme|>\n",
    "\n",
    "# Getting started with Taipy GUI\n",
    "\n",
    "My text: <|{text}|>\n",
    "\n",
    "Enter a word:\n",
    "\n",
    "<|{text}|input|>\n",
    "\n",
    "<|Analyze|button|on_action=local_callback|>\n",
    "\n",
    "## Positive\n",
    "<|{np.mean(dataframe['Score Pos'])}|text|format=%.2f|>\n",
    "\n",
    "## Neutral\n",
    "<|{np.mean(dataframe['Score Neu'])}|text|format=%.2f|>\n",
    "\n",
    "## Negative\n",
    "<|{np.mean(dataframe['Score Neg'])}|text|format=%.2f|>\n",
    "\n",
    "<|{dataframe}|table|>\n",
    "\n",
    "<|{dataframe}|chart|type=bar|x=Text|y[1]=Score Pos|y[2]=Score Neu|y[3]=Score Neg|y[4]=Overall|color[1]=green|color[2]=grey|color[3]=red|type[4]=line|>\n",
    "\"\"\"\n",
    "\n",
    "Gui(page).run()\n"
   ]
  },
  {
   "cell_type": "markdown",
   "metadata": {},
   "source": [
    "\n",
    "\n",
    "<div align=\"center\">\n",
    " <img src=https://github.com/Avaiga/taipy-getting-started-core/blob/develop/step_05/result.png width=700>\n",
    "</div>\n"
   ]
  },
  {
   "cell_type": "markdown",
   "metadata": {},
   "source": [
    "> You can download the code of this step [here](https://docs.taipy.io/en/latest/getting_started/src/step_06.py) or all the steps [here](https://github.com/Avaiga/taipy-getting-started-gui/tree/develop/src).\n",
    "\n",
    "\n",
    "\n",
    "# Step 6: Organize the layout of your App\n",
    "\n",
    "With just a few steps, you have created a full forecasting application that predicts across multiple days with different parameters. However, the page's layout could be greatly improved. To get a more aesthetically pleasing page, three new useful controls will be used. These are:\n",
    "\n",
    "- [part](https://docs.taipy.io/en/latest/manuals/gui/viselements/part/): creates a group of text/visual elements. A useful property of `part` is _render_. If set to False, it will not display the part. This allows the developer to display a group of visual elements dynamically or not.\n",
    "\n",
    "```\n",
    "<|part|render={bool_variable}|\n",
    "Text\n",
    "Or visual elements...\n",
    "|>\n",
    "```\n",
    "\n",
    "- [layout](https://docs.taipy.io/en/latest/manuals/gui/viselements/layout/): creates invisible columns where you can put your texts and visual elements. The _columns_ property indicates the width and number of columns. Here, we create three columns of the same width.\n",
    "\n",
    "```\n",
    "<|layout|columns=1 1 1|\n",
    "Button in first column <|Press|button|>\n",
    "\n",
    "Second column\n",
    "\n",
    "Third column\n",
    "|>\n",
    "```\n",
    "\n",
    "<div align=\"center\">\n",
    " <img src=https://github.com/Avaiga/taipy-getting-started-core/blob/develop/step_06/layout.png width=500>\n",
    "</div>\n",
    "\n",
    "\n",
    "- [expendable](https://docs.taipy.io/en/latest/manuals/gui/viselements/expendable/): creates a block that can expand or shrink.\n",
    "\n",
    "<div align=\"center\">\n",
    " <img src=https://github.com/Avaiga/taipy-getting-started-core/blob/develop/step_06/expendable.png width=500>\n",
    "</div>\n",
    "\n",
    "\n",
    "## Back to the code\n",
    "\n"
   ]
  },
  {
   "cell_type": "code",
   "execution_count": 14,
   "metadata": {},
   "outputs": [],
   "source": [
    "\n",
    "page = \"\"\"\n",
    "<|toggle|theme|>\n",
    "\n",
    "# Getting started with Taipy GUI\n",
    "\n",
    "<|layout|columns=1 1|\n",
    "<|\n",
    "My text: <|{text}|>\n",
    "\n",
    "Enter a word:\n",
    "\n",
    "<|{text}|input|>\n",
    "\n",
    "<|Analyze|button|on_action=local_callback|>\n",
    "|>\n",
    "\n",
    "\n",
    "<|Table|expandable|\n",
    "<|{dataframe}|table|width=100%|>\n",
    "|>\n",
    "\n",
    "|>\n",
    "\n",
    "<|layout|columns=1 1 1|\n",
    "<|\n",
    "## Positive\n",
    "<|{np.mean(dataframe['Score Pos'])}|>\n",
    "|>\n",
    "\n",
    "<|\n",
    "## Neutral\n",
    "<|{np.mean(dataframe['Score Neu'])}|>\n",
    "|>\n",
    "\n",
    "<|\n",
    "## Negative\n",
    "<|{np.mean(dataframe['Score Neg'])}|>\n",
    "|>\n",
    "|>\n",
    "\n",
    "<|{dataframe}|chart|type=bar|x=Text|y[1]=Score Pos|y[2]=Score Neu|y[3]=Score Neg|y[4]=Overall|color[1]=green|color[2]=grey|color[3]=red|type[4]=line|>\n",
    "\"\"\"\n"
   ]
  },
  {
   "cell_type": "markdown",
   "metadata": {},
   "source": [
    "\n",
    "<div align=\"center\">\n",
    " <img src=https://github.com/Avaiga/taipy-getting-started-core/blob/develop/step_06/result.png width=700>\n",
    "</div>\n",
    "\n"
   ]
  },
  {
   "cell_type": "markdown",
   "metadata": {},
   "source": [
    "> You can download the code of this step [here](https://docs.taipy.io/en/latest/getting_started/src/step_07.py) or all the steps [here](https://github.com/Avaiga/taipy-getting-started-gui/tree/develop/src).\n",
    "\n",
    "## Step 7: Multi-pages, navbars, and menus\n",
    "\n",
    "The creation of a multi-page application is greatly simplified through Taipy. To create a multi-page application, a dictionary of pages has to be specified in the definition of the GUI. Pages 1 and 2 will share the content of the root page. Visual elements like a menu or navbar are usually put on this root page to navigate between the different pages of the application.\n",
    "\n",
    "\n"
   ]
  },
  {
   "cell_type": "code",
   "execution_count": 15,
   "metadata": {},
   "outputs": [],
   "source": [
    "from taipy import Gui\n",
    "\n",
    "root_md=\"# Multi-page application\"\n",
    "page1_md=\"## This is page 1\"\n",
    "page2_md=\"## This is page 2\"\n",
    "\n",
    "pages = {\n",
    "    \"/\": root_md,\n",
    "    \"page1\": page1_md,\n",
    "    \"page2\": page2_md\n",
    "}\n",
    "Gui(pages=pages).run()\n"
   ]
  },
  {
   "cell_type": "markdown",
   "metadata": {},
   "source": [
    "\n",
    "## Navigating between pages\n",
    "\n",
    "- [menu](https://docs.taipy.io/en/latest/manuals/gui/viselements/menu/): creates a menu on the left to navigate through the pages.\n",
    "\n",
    "`<|menu|label=Menu|lov={lov_pages}|on_action=on_menu|>`. For example, this code creates a menu with two pages:\n",
    "\n"
   ]
  },
  {
   "cell_type": "code",
   "execution_count": 16,
   "metadata": {},
   "outputs": [],
   "source": [
    "from taipy.gui import Gui, navigate\n",
    "\n",
    "\n",
    "root_md=\"<|menu|label=Menu|lov={[('Page-1', 'Page 1'), ('Page-2', 'Page 2')]}|on_action=on_menu|>\"\n",
    "page1_md=\"## This is page 1\"\n",
    "page2_md=\"## This is page 2\"\n",
    "\n",
    "\n",
    "def on_menu(state, var_name, function_name, info):\n",
    "    page = info['args'][0]\n",
    "    navigate(state, to=page)\n",
    "   \n",
    "   \n",
    "pages = {\n",
    "    \"/\": root_md,\n",
    "    \"Page-1\": page1_md,\n",
    "    \"Page-2\": page2_md\n",
    "}\n",
    "\n",
    "Gui(pages=pages).run()\n"
   ]
  },
  {
   "cell_type": "markdown",
   "metadata": {},
   "source": [
    "\n",
    "<div align=\"center\">\n",
    " <img src=https://github.com/Avaiga/taipy-getting-started-core/blob/develop/step_07/menu.png width=50>\n",
    "</div>\n",
    "\n",
    "- [navbar](): creates an element to navigate through the Taipy pages by default\n",
    "\n"
   ]
  },
  {
   "cell_type": "code",
   "execution_count": 17,
   "metadata": {},
   "outputs": [],
   "source": [
    "from taipy.gui import Gui\n",
    "\n",
    "\n",
    "root_md=\"<|navbar|>\"\n",
    "page1_md=\"## This is page 1\"\n",
    "page2_md=\"## This is page 2\"\n",
    "\n",
    "pages = {\n",
    "    \"/\": root_md,\n",
    "    \"Page-1\": page1_md,\n",
    "    \"Page-2\": page2_md\n",
    "}\n",
    "\n",
    "Gui(pages=pages).run()\n"
   ]
  },
  {
   "cell_type": "markdown",
   "metadata": {},
   "source": [
    " \n",
    "<div align=\"center\">\n",
    " <img src=https://github.com/Avaiga/taipy-getting-started-core/blob/develop/step_07/navbar.png width=50>\n",
    "</div>\n",
    "\n",
    " \n",
    "## Back to the code\n",
    "\n",
    "In our application, the first page (named _page_) contains the previous Markdown.\n",
    "\n",
    "<div align=\"center\">\n",
    " <img src=https://github.com/Avaiga/taipy-getting-started-core/blob/develop/step_07/data_visualization.png width=700>\n",
    "</div>\n",
    "\n",
    "Then, letâ€™s create our second page, which contains a page to analyze an entire text.\n",
    "\n"
   ]
  },
  {
   "cell_type": "code",
   "execution_count": 18,
   "metadata": {},
   "outputs": [],
   "source": [
    "# Second page\n",
    "\n",
    "dataframe2 = dataframe.copy()\n",
    "path = \"\"\n",
    "treatment = 0\n",
    "\n",
    "page_file = \"\"\"\n",
    "<|{path}|file_selector|extensions=.txt|label=Upload .txt file|on_action=analyze_file|> <|{f'Downloading {treatment}%...'}|>\n",
    "\n",
    "\n",
    "<|Table|expandable|\n",
    "<|{dataframe2}|table|width=100%|>\n",
    "|>\n",
    "\n",
    "<|{dataframe2}|chart|type=bar|x=Text|y[1]=Score Pos|y[2]=Score Neu|y[3]=Score Neg|y[4]=Overall|color[1]=green|color[2]=grey|color[3]=red|type[4]=line|height=800px|>\n",
    "\n",
    "\"\"\"\n",
    "\n",
    "def analyze_file(state):\n",
    "    state.dataframe2 = dataframe2\n",
    "    state.treatment = 0\n",
    "    with open(state.path,\"r\", encoding='utf-8') as f:\n",
    "        data = f.read()\n",
    "        # split lines and eliminates duplicates\n",
    "        file_list = list(dict.fromkeys(data.replace('\\n', ' ').split(\".\")[:-1]))\n",
    "    \n",
    "    \n",
    "    for i in range(len(file_list)):\n",
    "        text = file_list[i]\n",
    "        state.treatment = int((i+1)*100/len(file_list))\n",
    "        temp = state.dataframe2.copy()\n",
    "        scores = analize_text(text)\n",
    "        state.dataframe2 = temp.append(scores, ignore_index=True)\n",
    "        \n",
    "    state.path = None\n"
   ]
  },
  {
   "cell_type": "markdown",
   "metadata": {},
   "source": [
    "\n",
    "This little code below assembles our previous page and this new page. The _navbar_ in the root page is present in both pages and is automatically able to switch pages through it. \n",
    "\n"
   ]
  },
  {
   "cell_type": "code",
   "execution_count": 19,
   "metadata": {},
   "outputs": [],
   "source": [
    "\n",
    "# One root page for common content\n",
    "# The two pages that were created\n",
    "pages = {\"/\":\"<|toggle|theme|>\\n<center>\\n<|navbar|>\\n</center>\",\n",
    "         \"line\":page,\n",
    "         \"text\":page_file}\n",
    "\n",
    "\n",
    "Gui(pages=pages).run()\n"
   ]
  }
 ],
 "metadata": {
  "kernelspec": {
   "display_name": "Python 3 (ipykernel)",
   "language": "python",
   "name": "python3"
  },
  "language_info": {
   "codemirror_mode": {
    "name": "ipython",
    "version": 3
   },
   "file_extension": ".py",
   "mimetype": "text/x-python",
   "name": "python",
   "nbconvert_exporter": "python",
   "pygments_lexer": "ipython3",
   "version": "3.10.4"
  }
 },
 "nbformat": 4,
 "nbformat_minor": 2
}
